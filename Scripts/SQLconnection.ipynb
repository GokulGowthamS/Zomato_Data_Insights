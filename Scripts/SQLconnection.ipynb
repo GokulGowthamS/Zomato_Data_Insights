{
 "cells": [
  {
   "cell_type": "code",
   "execution_count": 1,
   "id": "e188f0c2-d7a5-4e92-9d2b-f24b42b3aa6c",
   "metadata": {},
   "outputs": [],
   "source": [
    "import mysql.connector as db\n",
    "import pandas as pd"
   ]
  },
  {
   "cell_type": "code",
   "execution_count": 2,
   "id": "c8ced023-4e8e-4219-ab3b-eb177e5fcbb6",
   "metadata": {},
   "outputs": [],
   "source": [
    "# Customer Table Creation"
   ]
  },
  {
   "cell_type": "code",
   "execution_count": 3,
   "id": "369bc132-9fcb-4bae-9786-fce1e04821c7",
   "metadata": {},
   "outputs": [],
   "source": [
    "connection = db.connect(\n",
    "        user = 'gokulgowtham',\n",
    "        password = 'Iamgokul@123',\n",
    "        host = 'localhost',\n",
    "        database = 'new_tab')\n",
    "\n",
    "cursor = connection.cursor()\n",
    "\n",
    "query = \"\"\"\n",
    "        CREATE TABLE IF NOT EXISTS Customers (\n",
    "        customer_id VARCHAR(36) PRIMARY KEY,\n",
    "        name VARCHAR(255) NOT NULL,\n",
    "        email VARCHAR(255) UNIQUE NOT NULL,\n",
    "        phone_number VARCHAR(255) NOT NULL,\n",
    "        location VARCHAR(255),\n",
    "        signup_date DATE NOT NULL,\n",
    "        is_premium BOOLEAN DEFAULT FALSE,\n",
    "        preferred_cuisine VARCHAR(50),\n",
    "        total_orders INT DEFAULT 0,\n",
    "        average_rating FLOAT DEFAULT 0.0);\n",
    "        \"\"\"\n",
    "connection.commit()\n",
    "cursor.execute(query)\n",
    "connection.close()"
   ]
  },
  {
   "cell_type": "code",
   "execution_count": 4,
   "id": "3d447240-23ba-4701-97f3-2c280900cab1",
   "metadata": {},
   "outputs": [],
   "source": [
    "# Restaurant Table Creation"
   ]
  },
  {
   "cell_type": "code",
   "execution_count": 5,
   "id": "f6254718-6dd4-499c-a2f6-8717feafa99f",
   "metadata": {},
   "outputs": [],
   "source": [
    "connection = db.connect(\n",
    "        user = 'gokulgowtham',\n",
    "        password = 'Iamgokul@123',\n",
    "        host = 'localhost',\n",
    "        database = 'new_tab')\n",
    "\n",
    "cursor = connection.cursor()\n",
    "\n",
    "query = \"\"\"\n",
    "        CREATE TABLE IF NOT EXISTS Restaurants (\n",
    "        restaurant_id VARCHAR(36) PRIMARY KEY,\n",
    "        name VARCHAR(255) NOT NULL,\n",
    "        cuisine_type VARCHAR(50),\n",
    "        location VARCHAR(255),\n",
    "        owner_name VARCHAR(255),\n",
    "        average_delivery_time INT DEFAULT 30,\n",
    "        contact_number VARCHAR(255) NOT NULL,\n",
    "        rating FLOAT DEFAULT 0.0,\n",
    "        total_orders INT DEFAULT 0,\n",
    "        is_active BOOLEAN DEFAULT TRUE);\n",
    "        \"\"\"\n",
    "connection.commit()\n",
    "cursor.execute(query)\n",
    "connection.close()"
   ]
  },
  {
   "cell_type": "code",
   "execution_count": 6,
   "id": "639da9c5-8937-48e9-b7e2-9b76a9b0b85a",
   "metadata": {},
   "outputs": [],
   "source": [
    "# Order Table Creation"
   ]
  },
  {
   "cell_type": "code",
   "execution_count": 7,
   "id": "a7c4b4eb-0229-4423-afa0-2d5a7e2937ea",
   "metadata": {},
   "outputs": [],
   "source": [
    "connection = db.connect(\n",
    "        user = 'gokulgowtham',\n",
    "        password = 'Iamgokul@123',\n",
    "        host = 'localhost',\n",
    "        database = 'new_tab')\n",
    "\n",
    "cursor = connection.cursor()\n",
    "\n",
    "query = \"\"\"\n",
    "        CREATE TABLE IF NOT EXISTS Orders (\n",
    "        order_id VARCHAR(36) PRIMARY KEY,\n",
    "        customer_id VARCHAR(36) NOT NULL,\n",
    "        restaurant_id VARCHAR(36) NOT NULL,\n",
    "        order_date DATETIME NOT NULL,\n",
    "        delivery_time DATETIME,\n",
    "        status VARCHAR(50) DEFAULT 'Pending',\n",
    "        total_amount FLOAT NOT NULL,\n",
    "        payment_mode VARCHAR(50),\n",
    "        discount_applied FLOAT DEFAULT 0.0,\n",
    "        feedback_rating FLOAT DEFAULT NULL,\n",
    "        FOREIGN KEY (customer_id) REFERENCES Customers(customer_id),\n",
    "        FOREIGN KEY (restaurant_id) REFERENCES Restaurants(restaurant_id));\n",
    "        \"\"\"\n",
    "connection.commit()\n",
    "cursor.execute(query)\n",
    "connection.close()"
   ]
  },
  {
   "cell_type": "code",
   "execution_count": 8,
   "id": "9df9dda2-d537-40aa-abae-421165090b82",
   "metadata": {},
   "outputs": [],
   "source": [
    "# Deliveries Table Creation"
   ]
  },
  {
   "cell_type": "code",
   "execution_count": 9,
   "id": "45875ff7-a683-4e82-a03f-b40e3db9aeed",
   "metadata": {},
   "outputs": [],
   "source": [
    "connection = db.connect(\n",
    "        user = 'gokulgowtham',\n",
    "        password = 'Iamgokul@123',\n",
    "        host = 'localhost',\n",
    "        database = 'new_tab')\n",
    "\n",
    "cursor = connection.cursor()\n",
    "\n",
    "query = \"\"\" \n",
    "        CREATE TABLE IF NOT EXISTS Deliveries (\n",
    "        delivery_id VARCHAR(36) PRIMARY KEY,\n",
    "        order_id VARCHAR(36) NOT NULL,\n",
    "        delivery_status VARCHAR(50) DEFAULT 'On the way',\n",
    "        distance FLOAT NOT NULL,\n",
    "        delivery_time INT,\n",
    "        estimated_time INT,\n",
    "        delivery_fee FLOAT NOT NULL,\n",
    "        vehicle_type VARCHAR(50),\n",
    "        FOREIGN KEY (order_id) REFERENCES Orders(order_id));\n",
    "        \"\"\"\n",
    "connection.commit()\n",
    "cursor.execute(query)\n",
    "connection.close()"
   ]
  },
  {
   "cell_type": "code",
   "execution_count": 10,
   "id": "7506f7cd-e033-4054-907f-a3894ce65d08",
   "metadata": {},
   "outputs": [
    {
     "name": "stdout",
     "output_type": "stream",
     "text": [
      "All Tables have been created without any error!\n"
     ]
    }
   ],
   "source": [
    "print(\"All Tables have been created without any error!\")"
   ]
  },
  {
   "cell_type": "code",
   "execution_count": 11,
   "id": "372e3d71-70ce-4e92-a71f-e7e00e7daaf2",
   "metadata": {},
   "outputs": [],
   "source": [
    "# Inserting .csv files to Customers Table"
   ]
  },
  {
   "cell_type": "code",
   "execution_count": 12,
   "id": "f5df13fb-58e8-4451-802b-3f1e42035146",
   "metadata": {},
   "outputs": [],
   "source": [
    "connection = db.connect(\n",
    "        user = 'gokulgowtham',\n",
    "        password = 'Iamgokul@123',\n",
    "        host = 'localhost',\n",
    "        database = 'new_tab')\n",
    "\n",
    "cursor = connection.cursor()\n",
    "\n",
    "customers = pd.read_csv('Customers.csv')\n",
    "insert_query = \"\"\"\n",
    "               INSERT INTO Customers (customer_id, name, email, phone_number, location, signup_date, is_premium, preferred_cuisine, total_orders, average_rating) \n",
    "               VALUES (%s, %s, %s, %s, %s, %s, %s, %s, %s, %s)\n",
    "               \"\"\"\n",
    "for index, row in customers.iterrows():\n",
    "    cursor.execute(insert_query, (row['customer_id'], row['name'], row['email'], row['phone_number'], row['location'],\n",
    "                                  row['signup_date'], row['is_premium'], row['preferred_cuisine'], row['total_orders'], row['average_rating']))\n",
    "\n",
    "connection.commit()\n",
    "cursor.close()\n",
    "connection.close()"
   ]
  },
  {
   "cell_type": "code",
   "execution_count": 13,
   "id": "d2f15870-83c2-4aa4-b5d1-e3cb447419da",
   "metadata": {},
   "outputs": [],
   "source": [
    "# Inserting .csv files to Restaurants Table"
   ]
  },
  {
   "cell_type": "code",
   "execution_count": 14,
   "id": "4d002739-06ad-4ade-b6f1-6148adb9ef13",
   "metadata": {},
   "outputs": [],
   "source": [
    "connection = db.connect(\n",
    "        user = 'gokulgowtham',\n",
    "        password = 'Iamgokul@123',\n",
    "        host = 'localhost',\n",
    "        database = 'new_tab')\n",
    "\n",
    "cursor = connection.cursor()\n",
    "\n",
    "restaurants = pd.read_csv('Restaurants.csv')\n",
    "insert_query = \"\"\"\n",
    "               INSERT INTO Restaurants (restaurant_id, name, cuisine_type, location, owner_name, average_delivery_time, contact_number, rating, total_orders, is_active) \n",
    "               VALUES (%s, %s, %s, %s, %s, %s, %s, %s, %s, %s)\n",
    "               \"\"\"\n",
    "for index, row in restaurants.iterrows():\n",
    "    cursor.execute(insert_query, (row['restaurant_id'], row['name'], row['cuisine_type'], row['location'], row['owner_name'],\n",
    "                                  row['average_delivery_time'], row['contact_number'], row['rating'], row['total_orders'], row['is_active']))\n",
    "\n",
    "connection.commit()\n",
    "cursor.close()\n",
    "connection.close()"
   ]
  },
  {
   "cell_type": "code",
   "execution_count": 15,
   "id": "517b19cb-5552-4438-bcbd-6b745500d3a7",
   "metadata": {},
   "outputs": [],
   "source": [
    "# Inserting .csv files to Orders Table"
   ]
  },
  {
   "cell_type": "code",
   "execution_count": 16,
   "id": "b6469bd8-4255-4ffb-8e06-06cc971b4008",
   "metadata": {},
   "outputs": [],
   "source": [
    "connection = db.connect(\n",
    "        user = 'gokulgowtham',\n",
    "        password = 'Iamgokul@123',\n",
    "        host = 'localhost',\n",
    "        database = 'new_tab')\n",
    "\n",
    "cursor = connection.cursor()\n",
    "\n",
    "orders = pd.read_csv('Orders.csv')\n",
    "insert_query = \"\"\"\n",
    "               INSERT INTO Orders (order_id, customer_id, restaurant_id, order_date, delivery_time, status, total_amount, payment_mode, discount_applied, feedback_rating)\n",
    "               VALUES (%s, %s, %s, %s, %s, %s, %s, %s, %s, %s)\n",
    "               \"\"\"\n",
    "for index, row in orders.iterrows():\n",
    "    cursor.execute(insert_query, (row['order_id'], row['customer_id'], row['restaurant_id'], row['order_date'], row['delivery_time'], \n",
    "                                  row['status'], row['total_amount'], row['payment_mode'], row['discount_applied'], row['feedback_rating']))\n",
    "\n",
    "connection.commit()\n",
    "cursor.close()\n",
    "connection.close()"
   ]
  },
  {
   "cell_type": "code",
   "execution_count": 17,
   "id": "05156515-26f6-4083-82ba-95497c6b3a16",
   "metadata": {},
   "outputs": [],
   "source": [
    "# Inserting .csv files to Deliveries Table"
   ]
  },
  {
   "cell_type": "code",
   "execution_count": 18,
   "id": "e8e2585a-f1ad-40ff-a2a3-e83f55b18ad3",
   "metadata": {},
   "outputs": [],
   "source": [
    "connection = db.connect(\n",
    "        user = 'gokulgowtham',\n",
    "        password = 'Iamgokul@123',\n",
    "        host = 'localhost',\n",
    "        database = 'new_tab')\n",
    "\n",
    "cursor = connection.cursor()\n",
    "\n",
    "deliveries = pd.read_csv('Deliveries.csv')\n",
    "insert_query = \"\"\"\n",
    "               INSERT INTO Deliveries (delivery_id, order_id, delivery_status, distance, delivery_time, estimated_time, delivery_fee, vehicle_type) \n",
    "               VALUES (%s, %s, %s, %s, %s, %s, %s, %s)\n",
    "               \"\"\"\n",
    "for index, row in deliveries.iterrows():\n",
    "    cursor.execute(insert_query, (row['delivery_id'], row['order_id'], row['delivery_status'], row['distance'], row['delivery_time'], \n",
    "                                  row['estimated_time'], row['delivery_fee'], row['vehicle_type']))\n",
    "\n",
    "connection.commit()\n",
    "cursor.close()\n",
    "connection.close()"
   ]
  },
  {
   "cell_type": "code",
   "execution_count": 19,
   "id": "b00fd966-9273-4ae3-9f21-37e212b462f3",
   "metadata": {},
   "outputs": [
    {
     "name": "stdout",
     "output_type": "stream",
     "text": [
      "All Data have been inserted successfully\n"
     ]
    }
   ],
   "source": [
    "print(\"All Data have been inserted successfully\")"
   ]
  }
 ],
 "metadata": {
  "kernelspec": {
   "display_name": ".venv",
   "language": "python",
   "name": "python3"
  },
  "language_info": {
   "codemirror_mode": {
    "name": "ipython",
    "version": 3
   },
   "file_extension": ".py",
   "mimetype": "text/x-python",
   "name": "python",
   "nbconvert_exporter": "python",
   "pygments_lexer": "ipython3",
   "version": "3.9.13"
  }
 },
 "nbformat": 4,
 "nbformat_minor": 5
}
